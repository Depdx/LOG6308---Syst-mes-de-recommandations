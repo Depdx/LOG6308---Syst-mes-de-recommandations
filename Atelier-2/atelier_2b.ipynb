{
 "cells": [
  {
   "cell_type": "markdown",
   "metadata": {},
   "source": [
    "# Atelier 2 - Systèmes de recommandation\n"
   ]
  },
  {
   "cell_type": "markdown",
   "metadata": {},
   "source": [
    "### Question 5 (b)\n",
    "En utilisant les approches I-I et U-U, quels films sont recommandés pour un utilisateur qui a voté 5 pour Clockwork Orange (no. 179) et pour Full Metal Jacket (no. 188)? (10 pts.)"
   ]
  },
  {
   "cell_type": "code",
   "execution_count": 2,
   "metadata": {},
   "outputs": [],
   "source": [
    "import pandas as pd\n",
    "import numpy as np\n",
    "import matplotlib.pyplot as plt\n",
    "import tqdm.autonotebook as tqdm\n",
    "import warnings\n",
    "warnings.filterwarnings('ignore')\n",
    "\n",
    "votes = pd.read_csv(\"data/votes.csv\")\n",
    "items = pd.read_csv(\"data/items.csv\")\n",
    "users = pd.read_csv(\"data/u.csv\")\n",
    "\n",
    "MUI = votes.pivot(index=\"user.id\", columns=\"item.id\", values=\"rating\")\n",
    "MUI_numpy = MUI.to_numpy()\n",
    "\n",
    "def cosinus_matrices(A, B):\n",
    "    A = A.copy()\n",
    "    B = B.copy()\n",
    "    A[np.isnan(A)] = 0\n",
    "    B[np.isnan(B)] = 0\n",
    "    axis = 1\n",
    "    col_norm_A = np.linalg.norm(A, axis=axis, keepdims=True)\n",
    "    col_norm_B = np.linalg.norm(B, axis=axis, keepdims=True).T\n",
    "    W = A @ B.T / (np.abs(col_norm_A * col_norm_B) + 1e-10)\n",
    "    W = W * (np.ones_like(W) - np.identity(W.shape[0]))\n",
    "    return W\n",
    "\n",
    "MUI_Query = np.zeros_like(MUI_numpy)\n",
    "MUI_Query[0, 179] = 5\n",
    "MUI_Query[0, 188] = 5\n",
    "\n",
    "def Biais_mat(R):\n",
    "    R_moy_u = np.nanmean(R, axis=1, keepdims=True)\n",
    "    R_moy_i = np.nanmean(R, axis=0, keepdims=True)\n",
    "    R_moy = (R_moy_u + R_moy_i) / 2\n",
    "    return R_moy\n",
    "\n",
    "MUI_numpy = MUI_numpy - Biais_mat(MUI_numpy)\n",
    "MUI_Query = MUI_Query - Biais_mat(MUI_Query)"
   ]
  },
  {
   "cell_type": "markdown",
   "metadata": {},
   "source": [
    "#### Approche Utilisateur-Utilisateur"
   ]
  },
  {
   "cell_type": "code",
   "execution_count": 3,
   "metadata": {},
   "outputs": [
    {
     "data": {
      "text/plain": [
       "155                                Reservoir Dogs (1992)\n",
       "258                          George of the Jungle (1997)\n",
       "766                                Addiction, The (1995)\n",
       "639      Cook the Thief His Wife & Her Lover, The (1989)\n",
       "40                                  Billy Madison (1995)\n",
       "414                      Apple Dumpling Gang, The (1975)\n",
       "521                                   Down by Law (1986)\n",
       "24                                  Birdcage, The (1996)\n",
       "381    Adventures of Priscilla, Queen of the Desert, ...\n",
       "322                                  Dante's Peak (1997)\n",
       "Name:  movie title , dtype: object"
      ]
     },
     "execution_count": 3,
     "metadata": {},
     "output_type": "execute_result"
    }
   ],
   "source": [
    "similariter = cosinus_matrices(MUI_numpy, MUI_Query)[:, 0]\n",
    "np.argsort(similariter)[::-1]\n",
    "items[\" movie title \"].iloc[np.argsort(similariter)[::-1][:10]]"
   ]
  },
  {
   "cell_type": "markdown",
   "metadata": {},
   "source": [
    "#### Approche Item-Item"
   ]
  },
  {
   "cell_type": "code",
   "execution_count": 4,
   "metadata": {},
   "outputs": [
    {
     "data": {
      "text/plain": [
       "73         Faster Pussycat! Kill! Kill! (1965)\n",
       "103                        Theodore Rex (1995)\n",
       "246        Turbo: A Power Rangers Movie (1997)\n",
       "34     Free Willy 2: The Adventure Home (1995)\n",
       "102             All Dogs Go to Heaven 2 (1996)\n",
       "111                             Flipper (1996)\n",
       "137                D3: The Mighty Ducks (1996)\n",
       "36                                Nadja (1994)\n",
       "109                Operation Dumbo Drop (1995)\n",
       "33                 Doom Generation, The (1995)\n",
       "Name:  movie title , dtype: object"
      ]
     },
     "execution_count": 4,
     "metadata": {},
     "output_type": "execute_result"
    }
   ],
   "source": [
    "similariter = cosinus_matrices(MUI_numpy.T, MUI_Query.T)[:, 0]\n",
    "np.argsort(similariter)[::-1]\n",
    "items[\" movie title \"].iloc[np.argsort(similariter)[::-1][:10]]"
   ]
  },
  {
   "cell_type": "markdown",
   "metadata": {},
   "source": [
    "### Question 6 (b)\n",
    "Je suis une femme ingénieure de plus de 52 ans. Quelle est la probabilité que j'aime Toy Story? Utilisez une approche Bayésienne dichotomique où le seuil pour aimer est un vote de 4 et plus et où celui de l'âge est fixé à 52 ans. Présumez de l'indépendance des facteurs. (10 pts.)"
   ]
  },
  {
   "cell_type": "code",
   "execution_count": 5,
   "metadata": {},
   "outputs": [],
   "source": [
    "import pandas as pd\n",
    "import numpy as np\n",
    "import matplotlib.pyplot as plt\n",
    "import tqdm.autonotebook as tqdm\n",
    "\n",
    "votes = pd.read_csv(\"data/votes.csv\")\n",
    "items = pd.read_csv(\"data/items.csv\")\n",
    "users = pd.read_csv(\"data/u.csv\")\n",
    "\n",
    "MUI = votes.pivot(index=\"user.id\", columns=\"item.id\", values=\"rating\")\n",
    "MUI_numpy = MUI.to_numpy()"
   ]
  },
  {
   "cell_type": "markdown",
   "metadata": {},
   "source": [
    "$P(aime| age>52, job=ingenieur) = \\frac{P(age>52, job=ingenieur|aime) * P(aime)}{P(age>52, job=ingenieur)}$"
   ]
  },
  {
   "cell_type": "code",
   "execution_count": 6,
   "metadata": {},
   "outputs": [
    {
     "data": {
      "text/plain": [
       "0.4285714285714286"
      ]
     },
     "execution_count": 6,
     "metadata": {},
     "output_type": "execute_result"
    }
   ],
   "source": [
    "aime_toyStory = (MUI_numpy >= 4)[:, 0]\n",
    "users_above_52_ingenieur = (users[\" age \"] > 52) & (users[\" job \"] == \"engineer\").to_numpy()\n",
    "\n",
    "Prob_aime_toyStory = np.mean(aime_toyStory)\n",
    "Prob_users_above_52_ingenieur = np.mean(users_above_52_ingenieur)\n",
    "Prob_users_above_52_ingenieur_sachant_aime_toyStory = np.mean(users_above_52_ingenieur[aime_toyStory])\n",
    "Prob_aime_toyStory_sachant_users_above_52_ingenieur = (\n",
    "    Prob_users_above_52_ingenieur_sachant_aime_toyStory*Prob_aime_toyStory\n",
    ") / Prob_users_above_52_ingenieur\n",
    "Prob_aime_toyStory_sachant_users_above_52_ingenieur"
   ]
  },
  {
   "cell_type": "markdown",
   "metadata": {},
   "source": [
    "La probabilité qu'une personne aime Toy Story sachant que je suis une femme ingénieure de plus de 52 ans est de **0.43**."
   ]
  }
 ],
 "metadata": {
  "kernelspec": {
   "display_name": "atelier-1-jLsKB_VG-py3.12",
   "language": "python",
   "name": "python3"
  },
  "language_info": {
   "codemirror_mode": {
    "name": "ipython",
    "version": 3
   },
   "file_extension": ".py",
   "mimetype": "text/x-python",
   "name": "python",
   "nbconvert_exporter": "python",
   "pygments_lexer": "ipython3",
   "version": "3.12.1"
  }
 },
 "nbformat": 4,
 "nbformat_minor": 2
}
