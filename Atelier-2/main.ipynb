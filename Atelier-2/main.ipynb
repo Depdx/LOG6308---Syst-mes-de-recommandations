{
 "cells": [
  {
   "cell_type": "markdown",
   "metadata": {},
   "source": [
    "# Atelier 2 - Systèmes de recommandation\n"
   ]
  },
  {
   "cell_type": "markdown",
   "metadata": {},
   "source": [
    "### Question 5 (b)\n",
    "En utilisant les approches I-I et U-U, quels films sont recommandés pour un utilisateur qui a voté 5 pour Clockwork Orange (no. 179) et pour Full Metal Jacket (no. 188)? (10 pts.)"
   ]
  },
  {
   "cell_type": "code",
   "execution_count": 42,
   "metadata": {},
   "outputs": [],
   "source": [
    "import pandas as pd\n",
    "import numpy as np\n",
    "import matplotlib.pyplot as plt\n",
    "import tqdm.autonotebook as tqdm\n",
    "\n",
    "votes = pd.read_csv(\"data/votes.csv\")\n",
    "items = pd.read_csv(\"data/items.csv\")\n",
    "users = pd.read_csv(\"data/u.csv\")\n",
    "\n",
    "MUI = votes.pivot(index=\"user.id\", columns=\"item.id\", values=\"rating\")\n",
    "MUI_numpy = MUI.to_numpy()\n",
    "\n",
    "def cosinus_matrices(A, B):\n",
    "    A = A.copy()\n",
    "    B = B.copy()\n",
    "    A[np.isnan(A)] = 0\n",
    "    B[np.isnan(B)] = 0\n",
    "    axis = 1\n",
    "    col_norm_A = np.linalg.norm(A, axis=axis, keepdims=True)\n",
    "    col_norm_B = np.linalg.norm(B, axis=axis, keepdims=True).T\n",
    "    W = A @ B.T / (np.abs(col_norm_A * col_norm_B) + 1e-10)\n",
    "    W = W * (np.ones_like(W) - np.identity(W.shape[0]))\n",
    "    return W\n",
    "\n",
    "MUI_Query = np.zeros_like(MUI_numpy)\n",
    "MUI_Query[0, 179] = 1\n",
    "MUI_Query[0, 188] = 1"
   ]
  },
  {
   "cell_type": "markdown",
   "metadata": {},
   "source": [
    "#### Approche Utilisateur-Utilisateur"
   ]
  },
  {
   "cell_type": "code",
   "execution_count": 46,
   "metadata": {},
   "outputs": [
    {
     "data": {
      "text/plain": [
       "28                               Batman Forever (1995)\n",
       "821                                       Faces (1968)\n",
       "414                    Apple Dumpling Gang, The (1975)\n",
       "337                                        Bean (1997)\n",
       "639    Cook the Thief His Wife & Her Lover, The (1989)\n",
       "155                              Reservoir Dogs (1992)\n",
       "521                                 Down by Law (1986)\n",
       "887                             One Night Stand (1997)\n",
       "391                     Man Without a Face, The (1993)\n",
       "660                                   High Noon (1952)\n",
       "Name:  movie title , dtype: object"
      ]
     },
     "execution_count": 46,
     "metadata": {},
     "output_type": "execute_result"
    }
   ],
   "source": [
    "similariter = cosinus_matrices(MUI_numpy, MUI_Query)[:, 0]\n",
    "np.argsort(similariter)[::-1]\n",
    "items[\" movie title \"].iloc[np.argsort(similariter)[::-1][:10]]"
   ]
  },
  {
   "cell_type": "markdown",
   "metadata": {},
   "source": [
    "#### Approche Item-Item"
   ]
  },
  {
   "cell_type": "code",
   "execution_count": 44,
   "metadata": {},
   "outputs": [
    {
     "data": {
      "text/plain": [
       "1681    Scream of Stone (Schrei aus Stein) (1991)\n",
       "577                         Demolition Man (1993)\n",
       "553                             Waterworld (1995)\n",
       "554                     White Man's Burden (1995)\n",
       "555                              Wild Bill (1995)\n",
       "556                 Farinelli: il castrato (1994)\n",
       "557                     Heavenly Creatures (1994)\n",
       "558             Interview with the Vampire (1994)\n",
       "559          Kid in King Arthur's Court, A (1995)\n",
       "560            Mary Shelley's Frankenstein (1994)\n",
       "Name:  movie title , dtype: object"
      ]
     },
     "execution_count": 44,
     "metadata": {},
     "output_type": "execute_result"
    }
   ],
   "source": [
    "similariter = cosinus_matrices(MUI_numpy.T, MUI_Query.T)[:, 0]\n",
    "np.argsort(similariter)[::-1]\n",
    "items[\" movie title \"].iloc[np.argsort(similariter)[::-1][:10]]"
   ]
  },
  {
   "cell_type": "markdown",
   "metadata": {},
   "source": [
    "### Question 6 (b)\n",
    "Je suis une femme ingénieure de plus de 52 ans. Quelle est la probabilité que j'aime Toy Story? Utilisez une approche Bayésienne dichotomique où le seuil pour aimer est un vote de 4 et plus et où celui de l'âge est fixé à 50 ans. Présumez de l'indépendance des facteurs. (10 pts.)"
   ]
  },
  {
   "cell_type": "code",
   "execution_count": null,
   "metadata": {},
   "outputs": [],
   "source": [
    "import pandas as pd\n",
    "import numpy as np\n",
    "import matplotlib.pyplot as plt\n",
    "import tqdm.autonotebook as tqdm\n",
    "\n",
    "votes = pd.read_csv(\"data/votes.csv\")\n",
    "items = pd.read_csv(\"data/items.csv\")\n",
    "users = pd.read_csv(\"data/u.csv\")\n",
    "\n",
    "MUI = votes.pivot(index=\"user.id\", columns=\"item.id\", values=\"rating\")\n",
    "MUI_numpy = MUI.to_numpy()"
   ]
  },
  {
   "cell_type": "code",
   "execution_count": null,
   "metadata": {},
   "outputs": [],
   "source": []
  }
 ],
 "metadata": {
  "kernelspec": {
   "display_name": "atelier-1-jLsKB_VG-py3.12",
   "language": "python",
   "name": "python3"
  },
  "language_info": {
   "codemirror_mode": {
    "name": "ipython",
    "version": 3
   },
   "file_extension": ".py",
   "mimetype": "text/x-python",
   "name": "python",
   "nbconvert_exporter": "python",
   "pygments_lexer": "ipython3",
   "version": "3.12.1"
  }
 },
 "nbformat": 4,
 "nbformat_minor": 2
}
