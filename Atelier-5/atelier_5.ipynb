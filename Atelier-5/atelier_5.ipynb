{
 "cells": [
  {
   "cell_type": "markdown",
   "metadata": {},
   "source": [
    "# Atelier 5, PageRank et PageRank personnalisé #\n",
    "Cet atelier porte sur l'algorithme PageRank et sa version personnalisée personnalisé pour effectuer des recommandations.  Utilisez la bibliothèque \"igraph\" pour cet exercice et les données de MovieLens 100k.\n",
    "\n",
    "Chaque question compte pour 5 points.\n",
    "\n",
    "## Question 1 ##\n",
    "(1) Créez la matrice d'adjacence du graphe biparti que nous nommerons B.  Cette matrice doit avoir une dimension de (943+1682,943+1682).  Vous pouvez la créer à partir de la matrice d'adjacence des votes de dimension (943,1682)."
   ]
  },
  {
   "cell_type": "code",
   "execution_count": 42,
   "metadata": {},
   "outputs": [
    {
     "name": "stdout",
     "output_type": "stream",
     "text": [
      "Matrice d'adjacence bipartie: (2625, 2625)\n"
     ]
    },
    {
     "data": {
      "text/plain": [
       "array([[5., 3., 4., ..., 0., 0., 0.],\n",
       "       [4., 0., 0., ..., 0., 0., 0.],\n",
       "       [0., 0., 0., ..., 0., 0., 0.],\n",
       "       ...,\n",
       "       [0., 0., 0., ..., 0., 0., 0.],\n",
       "       [0., 0., 0., ..., 0., 0., 0.],\n",
       "       [0., 0., 0., ..., 0., 0., 0.]])"
      ]
     },
     "execution_count": 42,
     "metadata": {},
     "output_type": "execute_result"
    }
   ],
   "source": [
    "import warnings\n",
    "\n",
    "warnings.filterwarnings(\"ignore\")\n",
    "import pandas as pd\n",
    "import numpy as np\n",
    "from tqdm.autonotebook import tqdm\n",
    "import igraph as ig\n",
    "import matplotlib.pyplot as plt\n",
    "\n",
    "u_data = pd.read_csv(\"data/votes.csv\")\n",
    "u_user = pd.read_csv(\"data/u.csv\")\n",
    "u_item = pd.read_csv(\"data/items.csv\")\n",
    "\n",
    "# Matrice d'adjacence\n",
    "m = u_data.pivot(index=\"user.id\", columns=\"item.id\", values=\"rating\").to_numpy(na_value=0)\n",
    "B = np.zeros((m.shape[0]+m.shape[1], m.shape[0]+ m.shape[1]))\n",
    "B[:m.shape[0], :m.shape[1]] = m\n",
    "B[m.shape[0]:, m.shape[1]:] = m.T\n",
    "G = ig.Graph.Adjacency(B)\n",
    "print(f\"Matrice d'adjacence bipartie: {B.shape}\")\n",
    "B"
   ]
  },
  {
   "cell_type": "markdown",
   "metadata": {},
   "source": [
    "## Question 2 ##\n",
    "(2) Calculez le vecteur du PageRank de la matrice biparti B."
   ]
  },
  {
   "cell_type": "code",
   "execution_count": 45,
   "metadata": {},
   "outputs": [
    {
     "name": "stdout",
     "output_type": "stream",
     "text": [
      "PageRank: (2625,), [1.45008065e-03 1.85749925e-04 1.66346766e-04 ... 8.69887378e-05\n",
      " 2.01711568e-04 9.61742966e-04]\n"
     ]
    }
   ],
   "source": [
    "r = G.pagerank()\n",
    "r = np.array(r)\n",
    "print(f\"PageRank: {r.shape}, {r}\")"
   ]
  },
  {
   "cell_type": "markdown",
   "metadata": {},
   "source": [
    "## Question 3 ##\n",
    "(3) Les titres ci-dessous représentent les films de deux réalisateurs, Alfred Hitchcock et Stanley Kubrick, que l'on retrouve dans les données Movielens.  Utilisez la version personnalisée de l'algorithme PageRank et présumez un utilisateur qui aime les deux premiers de chaque liste (Birds, Vertigo, Full Metal [...] et Clockwork [...]), mais qui n'a pas de vote pour les autres.  Quels sont les 80 premier films qui seraient recommandés et comment cela se compare-t-il avec la version non personnalisée?"
   ]
  },
  {
   "cell_type": "code",
   "execution_count": 78,
   "metadata": {},
   "outputs": [
    {
     "name": "stdout",
     "output_type": "stream",
     "text": [
      "                                     Personalize                                        Normal\n",
      "0                                 Twister (1996)                                Twister (1996)\n",
      "1                             Stand by Me (1986)                                 Aliens (1986)\n",
      "2                   2001: A Space Odyssey (1968)                                 Mother (1996)\n",
      "3                             Ulee's Gold (1997)             E.T. the Extra-Terrestrial (1982)\n",
      "4                                  Aliens (1986)                              Boot, Das (1981)\n",
      "5                               Apollo 13 (1995)                        Terminator, The (1984)\n",
      "6                            Forrest Gump (1994)                           Forrest Gump (1994)\n",
      "7                                  Psycho (1960)                                Amadeus (1984)\n",
      "8              E.T. the Extra-Terrestrial (1982)                When Harry Met Sally... (1989)\n",
      "9                                 Amadeus (1984)             Terminator 2: Judgment Day (1991)\n",
      "10                          Groundhog Day (1993)                         Rainmaker, The (1997)\n",
      "11     Butch Cassidy and the Sundance Kid (1969)                            Ulee's Gold (1997)\n",
      "12                            Rear Window (1954)                          Fly Away Home (1996)\n",
      "13                             Braveheart (1995)                                  Kolya (1996)\n",
      "14                  Devil's Advocate, The (1997)                    Usual Suspects, The (1995)\n",
      "15                                   Jaws (1975)                             Braveheart (1995)\n",
      "16            People vs. Larry Flynt, The (1996)                                 Ransom (1996)\n",
      "17                    Tomorrow Never Dies (1997)            People vs. Larry Flynt, The (1996)\n",
      "18                               Cop Land (1997)                                  Alien (1979)\n",
      "19                             Sting, The (1973)                         Kiss the Girls (1997)\n",
      "20        One Flew Over the Cuckoo's Nest (1975)           Truth About Cats & Dogs, The (1996)\n",
      "21                                  Alien (1979)        One Flew Over the Cuckoo's Nest (1975)\n",
      "22                          Graduate, The (1967)                             Casablanca (1942)\n",
      "23                                  Evita (1996)                     Back to the Future (1985)\n",
      "24                          Birdcage, The (1996)                          Birdcage, The (1996)\n",
      "25                   Seven Years in Tibet (1997)                    Tomorrow Never Dies (1997)\n",
      "26        Monty Python and the Holy Grail (1974)        Monty Python and the Holy Grail (1974)\n",
      "27                When Harry Met Sally... (1989)               Everyone Says I Love You (1996)\n",
      "28                     Back to the Future (1985)              Shawshank Redemption, The (1994)\n",
      "29                              G.I. Jane (1997)                       Devil's Own, The (1997)\n",
      "30                    Mission: Impossible (1996)                    Mission: Impossible (1996)\n",
      "31                          Trainspotting (1996)                               Cop Land (1997)\n",
      "32                        Terminator, The (1984)     Indiana Jones and the Last Crusade (1989)\n",
      "33                     Mr. Holland's Opus (1995)                       Schindler's List (1993)\n",
      "34             Terminator 2: Judgment Day (1991)                  Devil's Advocate, The (1997)\n",
      "35                           Dante's Peak (1997)                   Seven Years in Tibet (1997)\n",
      "36                    Usual Suspects, The (1995)                    Princess Bride, The (1987)\n",
      "37                              Game, The (1997)                              G.I. Jane (1997)\n",
      "38                      Starship Troopers (1997)                          Fugitive, The (1993)\n",
      "39                           Men in Black (1997)  Willy Wonka and the Chocolate Factory (1971)\n",
      "40                          Fugitive, The (1993)                      Starship Troopers (1997)\n",
      "41                         Murder at 1600 (1997)                          Trainspotting (1996)\n",
      "42                          Boogie Nights (1997)                           Dante's Peak (1997)\n",
      "43                             Casablanca (1942)                         Murder at 1600 (1997)\n",
      "44                    Princess Bride, The (1987)                          Boogie Nights (1997)\n",
      "45  Willy Wonka and the Chocolate Factory (1971)                     Mr. Holland's Opus (1995)\n",
      "46              Shawshank Redemption, The (1994)                  Sense and Sensibility (1995)\n",
      "47     Indiana Jones and the Last Crusade (1989)               Empire Strikes Back, The (1980)\n",
      "48                              Apt Pupil (1998)                                  Evita (1996)\n",
      "49                               In & Out (1997)                              Apt Pupil (1998)\n",
      "50                       Schindler's List (1993)                       Dead Man Walking (1995)\n",
      "51                      Good Will Hunting (1997)                           Men in Black (1997)\n",
      "52                  Sense and Sensibility (1995)                               In & Out (1997)\n",
      "53                       Dead Man Walking (1995)                           Pulp Fiction (1994)\n",
      "54                 Independence Day (ID4) (1996)                      Good Will Hunting (1997)\n",
      "55                              Rock, The (1996)                 Independence Day (ID4) (1996)\n",
      "56                      Leaving Las Vegas (1995)                              Rock, The (1996)\n",
      "57                            Chasing Amy (1997)                      Leaving Las Vegas (1995)\n",
      "58                          Jerry Maguire (1996)                              Game, The (1997)\n",
      "59               Empire Strikes Back, The (1980)              Silence of the Lambs, The (1991)\n",
      "60                         Twelve Monkeys (1995)                         Twelve Monkeys (1995)\n",
      "61                             Saint, The (1997)                            Chasing Amy (1997)\n",
      "62              Silence of the Lambs, The (1991)                Raiders of the Lost Ark (1981)\n",
      "63               Star Trek: First Contact (1996)                          Jerry Maguire (1996)\n",
      "64                           Pulp Fiction (1994)               Star Trek: First Contact (1996)\n",
      "65                Raiders of the Lost Ark (1981)                             Saint, The (1997)\n",
      "66                      Conspiracy Theory (1997)                      Conspiracy Theory (1997)\n",
      "67                      L.A. Confidential (1997)                              Toy Story (1995)\n",
      "68                         Godfather, The (1972)                      L.A. Confidential (1997)\n",
      "69                              Toy Story (1995)                         Godfather, The (1972)\n",
      "70                     Return of the Jedi (1983)                     Return of the Jedi (1983)\n",
      "71                        Full Monty, The (1997)                        Full Monty, The (1997)\n",
      "72                                Titanic (1997)                                  Fargo (1996)\n",
      "73                                  Fargo (1996)                                Titanic (1997)\n",
      "74                                 Scream (1996)                              Liar Liar (1997)\n",
      "75                              Liar Liar (1997)                                 Scream (1996)\n",
      "76                          Air Force One (1997)                          Air Force One (1997)\n",
      "77                                Contact (1997)                              Star Wars (1977)\n",
      "78                   English Patient, The (1996)                   English Patient, The (1996)\n",
      "79                              Star Wars (1977)                                Contact (1997)\n"
     ]
    }
   ],
   "source": [
    "hitchcock_titres = [\n",
    "    \"Birds, The (1963)\",\n",
    "    \"Vertigo (1958)\",\n",
    "    \"North by Northwest (1959)\",\n",
    "    \"Rear Window (1954)\",\n",
    "    \"Dial M for Murder (1954)\",\n",
    "    \"Psycho (1960)\",\n",
    "]\n",
    "\n",
    "kubrick_titres = [\n",
    "    \"Full Metal Jacket (1987)\",\n",
    "    \"Clockwork Orange, A (1971)\",\n",
    "    \"2001: A Space Odyssey (1968)\",\n",
    "    \"Dr. Strangelove or: How I Learned to Stop Worrying and Love the Bomb (1963)\",\n",
    "]\n",
    "\n",
    "# personalisation est 1 si il a vu et 0 autrement\n",
    "hitchcock_ids = u_item[u_item[' movie title '].isin(hitchcock_titres)]['movie id ']\n",
    "kubrick_ids = u_item[u_item[\" movie title \"].isin(kubrick_titres)][\"movie id \"]\n",
    "\n",
    "# Initialize personalization vector with zeros\n",
    "reset = np.zeros(G.vcount())\n",
    "\n",
    "# Set the value to 1 if the user has rated a Hitchcock or Kubrick movie\n",
    "for user_id in range(1, len(u_user) + 1):\n",
    "    user_ratings = u_data[u_data['user.id'] == user_id]\n",
    "    if any(user_ratings['item.id'].isin(hitchcock_ids)) or any(user_ratings['item.id'].isin(kubrick_ids)):\n",
    "        reset[user_id - 1] = 1\n",
    "\n",
    "# Compute personalized PageRank\n",
    "pr = G.personalized_pagerank(reset=reset)\n",
    "pr = np.array(pr)\n",
    "\n",
    "def show_top_80(pr):\n",
    "    # show top  80\n",
    "    pr = pr[:m.shape[0]]\n",
    "    top_80_ids = np.argsort(pr)[-80:]\n",
    "    recommendation = items.iloc[top_80_ids][\" movie title \"]\n",
    "    return recommendation.reset_index(drop=True)\n",
    "\n",
    "\n",
    "personalize, normal = show_top_80(pr), show_top_80(r)\n",
    "df = pd.DataFrame({\"Personalize\": personalize, \"Normal\": normal})\n",
    "with pd.option_context(\"display.max_rows\", 80, \"display.max_columns\", 2, \"display.width\", 1000):\n",
    "    print(df)"
   ]
  },
  {
   "cell_type": "markdown",
   "metadata": {},
   "source": [
    "Nous voyons qu'il y a des films similaires puisqu'ils sont populaires, mais nous voulons voir si l'algorithme PageRank peut nous donner des recommandations plus pertinentes. La version spécialisé donne en effet les films du même réalisateur haut dans les recommandations."
   ]
  },
  {
   "cell_type": "markdown",
   "metadata": {},
   "source": [
    "## Question 4 ##\n",
    "(4) Comment pourrait-on intégrer à cet algorithme l'information du réalisateur de ces films? Quel est le résultat par rapport à (3)?"
   ]
  },
  {
   "cell_type": "markdown",
   "metadata": {},
   "source": [
    "Pour intégrer l'information du réalisateur de ces films, nous pouvons ajoutez des noeuds reprensentant les deux réalisateurs et les relier aux films qu'ils ont réalisés."
   ]
  }
 ],
 "metadata": {
  "kernelspec": {
   "display_name": "atelier-4-pMotCweP-py3.12",
   "language": "python",
   "name": "python3"
  },
  "language_info": {
   "codemirror_mode": {
    "name": "ipython",
    "version": 3
   },
   "file_extension": ".py",
   "mimetype": "text/x-python",
   "name": "python",
   "nbconvert_exporter": "python",
   "pygments_lexer": "ipython3",
   "version": "3.12.1"
  }
 },
 "nbformat": 4,
 "nbformat_minor": 2
}
