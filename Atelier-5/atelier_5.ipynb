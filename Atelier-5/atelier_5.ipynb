{
 "cells": [
  {
   "cell_type": "markdown",
   "metadata": {},
   "source": [
    "# Atelier 5, PageRank et PageRank personnalisé #\n",
    "Cet atelier porte sur l'algorithme PageRank et sa version personnalisée personnalisé pour effectuer des recommandations.  Utilisez la bibliothèque \"igraph\" pour cet exercice et les données de MovieLens 100k.\n",
    "\n",
    "Chaque question compte pour 5 points.\n",
    "\n",
    "## Question 1 ##\n",
    "(1) Créez la matrice d'adjacence du graphe biparti que nous nommerons B.  Cette matrice doit avoir une dimension de (943+1682,943+1682).  Vous pouvez la créer à partir de la matrice d'adjacence des votes de dimension (943,1682)."
   ]
  },
  {
   "cell_type": "code",
   "execution_count": 28,
   "metadata": {},
   "outputs": [
    {
     "name": "stdout",
     "output_type": "stream",
     "text": [
      "Matrice d'adjacence bipartie: (2625, 2625)\n"
     ]
    },
    {
     "data": {
      "text/plain": [
       "array([[5., 3., 4., ..., 0., 0., 0.],\n",
       "       [4., 0., 0., ..., 0., 0., 0.],\n",
       "       [0., 0., 0., ..., 0., 0., 0.],\n",
       "       ...,\n",
       "       [0., 0., 0., ..., 0., 0., 0.],\n",
       "       [0., 0., 0., ..., 0., 0., 0.],\n",
       "       [0., 0., 0., ..., 0., 0., 0.]])"
      ]
     },
     "execution_count": 28,
     "metadata": {},
     "output_type": "execute_result"
    }
   ],
   "source": [
    "import warnings\n",
    "\n",
    "warnings.filterwarnings(\"ignore\")\n",
    "import pandas as pd\n",
    "import numpy as np\n",
    "from tqdm.autonotebook import tqdm\n",
    "import igraph as ig\n",
    "import matplotlib.pyplot as plt\n",
    "\n",
    "u_data = pd.read_csv(\"data/votes.csv\")\n",
    "u_user = pd.read_csv(\"data/u.csv\")\n",
    "u_item = pd.read_csv(\"data/items.csv\")\n",
    "\n",
    "# Matrice d'adjacence\n",
    "m = u_data.pivot(index=\"user.id\", columns=\"item.id\", values=\"rating\").to_numpy(na_value=0)\n",
    "B = np.zeros((m.shape[0]+m.shape[1], m.shape[0]+ m.shape[1]))\n",
    "B[:m.shape[0], :m.shape[1]] = m\n",
    "B[m.shape[0]:, m.shape[1]:] = m.T\n",
    "print(f\"Matrice d'adjacence bipartie: {B.shape}\")\n",
    "B"
   ]
  },
  {
   "cell_type": "markdown",
   "metadata": {},
   "source": [
    "## Question 2 ##\n",
    "(2) Calculez le vecteur du PageRank de la matrice biparti B."
   ]
  },
  {
   "cell_type": "code",
   "execution_count": 34,
   "metadata": {},
   "outputs": [
    {
     "data": {
      "text/plain": [
       "array([0.00908438, 0.00219047, 0.00133335, ..., 0.00068453, 0.00308071,\n",
       "       0.00533969])"
      ]
     },
     "execution_count": 34,
     "metadata": {},
     "output_type": "execute_result"
    }
   ],
   "source": [
    "d = 0.85\n",
    "n = B.shape[1]\n",
    "d_matrix = (1-(np.ones(n)*d))/n\n",
    "s = np.sum(B, axis=0)\n",
    "s[s == 0] = 1 # Avoid division by zero\n",
    "\n",
    "r = np.ones(n) / n\n",
    "r_prev = np.zeros(n)\n",
    "while np.linalg.norm(r - r_prev) > 1e-10:\n",
    "    r_prev = r\n",
    "    r = d_matrix + (d * B.T) @ (r / s)\n",
    "r"
   ]
  },
  {
   "cell_type": "markdown",
   "metadata": {},
   "source": [
    "## Question 3 ##\n",
    "(3) Les titres ci-dessous représentent les films de deux réalisateurs, Alfred Hitchcock et Stanley Kubrick, que l'on retrouve dans les données Movielens.  Utilisez la version personnalisée de l'algorithme PageRank et présumez un utilisateur qui aime les deux premiers de chaque liste (Birds, Vertigo, Full Metal [...] et Clockwork [...]), mais qui n'a pas de vote pour les autres.  Quels sont les 80 premier films qui seraient recommandés et comment cela se compare-t-il avec la version non personnalisée?"
   ]
  },
  {
   "cell_type": "code",
   "execution_count": 5,
   "metadata": {},
   "outputs": [],
   "source": [
    "hitchcock_titres = [\n",
    "    \"Birds, The (1963)\",\n",
    "    \"Vertigo (1958)\",\n",
    "    \"North by Northwest (1959)\",\n",
    "    \"Rear Window (1954)\",\n",
    "    \"Dial M for Murder (1954)\",\n",
    "    \"Psycho (1960)\",\n",
    "]\n",
    "\n",
    "kubrick_titres = [\n",
    "    \"Full Metal Jacket (1987)\",\n",
    "    \"Clockwork Orange, A (1971)\",\n",
    "    \"2001: A Space Odyssey (1968)\",\n",
    "    \"Dr. Strangelove or: How I Learned to Stop Worrying and Love the Bomb (1963)\",\n",
    "]"
   ]
  },
  {
   "cell_type": "markdown",
   "metadata": {},
   "source": [
    "## Question 4 ##\n",
    "(4) Comment pourrait-on intégrer à cet algorithme l'information du réalisateur de ces films? Quel est le résultat par rapport à (3)?"
   ]
  },
  {
   "cell_type": "code",
   "execution_count": null,
   "metadata": {},
   "outputs": [],
   "source": []
  }
 ],
 "metadata": {
  "kernelspec": {
   "display_name": "atelier-4-pMotCweP-py3.12",
   "language": "python",
   "name": "python3"
  },
  "language_info": {
   "codemirror_mode": {
    "name": "ipython",
    "version": 3
   },
   "file_extension": ".py",
   "mimetype": "text/x-python",
   "name": "python",
   "nbconvert_exporter": "python",
   "pygments_lexer": "ipython3",
   "version": "3.12.1"
  }
 },
 "nbformat": 4,
 "nbformat_minor": 2
}
